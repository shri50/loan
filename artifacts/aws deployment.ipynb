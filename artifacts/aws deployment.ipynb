{
 "cells": [
  {
   "cell_type": "code",
   "execution_count": null,
   "id": "de1cde94-c57d-4256-b17b-595f754c474d",
   "metadata": {},
   "outputs": [],
   "source": [
    "AWS >> Amazon Web Service\n",
    "\n",
    "\n",
    "cloud service provider >> APP Hosting \n",
    "\n",
    "\n",
    "GCP >> Google cloud platform\n",
    "Azure >> Microsoft \n",
    "cloud ocean >> \n"
   ]
  },
  {
   "cell_type": "code",
   "execution_count": null,
   "id": "e201cbcf-7615-4de3-8754-a5b4e65a240a",
   "metadata": {},
   "outputs": [],
   "source": [
    "Why are AWS ??\n",
    "\n",
    "23% AWS market share. \n",
    "Easy to configure. \n",
    "free to use limited serices.[limited time]"
   ]
  },
  {
   "cell_type": "markdown",
   "id": "4057f616-b22f-4190-b9a2-86c0a5c5fdcf",
   "metadata": {},
   "source": [
    "### Data Science "
   ]
  },
  {
   "cell_type": "code",
   "execution_count": null,
   "id": "076dd8e1-39fd-401b-9bea-d74fb14ee19a",
   "metadata": {},
   "outputs": [],
   "source": [
    "step1 : Problem statement [conda]>> [git]\n",
    "step2 : Data Gathering \n",
    "step3 : EDA\n",
    "step4 : Feat Engg\n",
    "step5 : Feat Selection \n",
    "step6 : modeling \n",
    "step7 : Evaluation [conda] >> git \n",
    "step8 : Deployemt [AWS]\n",
    "        1. Cloud creation [cloud instance] >> Done \n",
    "        2. Install python & dependencies [Packages & Library ] \n",
    "        3. App configure"
   ]
  },
  {
   "cell_type": "code",
   "execution_count": null,
   "id": "dd33cd62-b3ad-409e-9f77-91a635750103",
   "metadata": {},
   "outputs": [],
   "source": [
    "python = 3.8.10 >> ubuntu 20.04 [os]"
   ]
  },
  {
   "cell_type": "code",
   "execution_count": 2,
   "id": "9a5ed1b1-1592-4e1d-8a5c-17fa06898478",
   "metadata": {},
   "outputs": [
    {
     "name": "stdout",
     "output_type": "stream",
     "text": [
      "Python 3.10.4\n"
     ]
    }
   ],
   "source": [
    "!python --version"
   ]
  },
  {
   "cell_type": "code",
   "execution_count": null,
   "id": "c45ec869-b2f3-486c-b5ac-0457d4c97cb9",
   "metadata": {},
   "outputs": [],
   "source": []
  }
 ],
 "metadata": {
  "kernelspec": {
   "display_name": "Python 3 (ipykernel)",
   "language": "python",
   "name": "python3"
  },
  "language_info": {
   "codemirror_mode": {
    "name": "ipython",
    "version": 3
   },
   "file_extension": ".py",
   "mimetype": "text/x-python",
   "name": "python",
   "nbconvert_exporter": "python",
   "pygments_lexer": "ipython3",
   "version": "3.10.4"
  }
 },
 "nbformat": 4,
 "nbformat_minor": 5
}

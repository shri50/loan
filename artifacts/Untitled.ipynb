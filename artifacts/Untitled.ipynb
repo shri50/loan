{
 "cells": [
  {
   "cell_type": "code",
   "execution_count": 1,
   "id": "5908610d-d7f3-4cd8-9e67-f6cb2d1ff889",
   "metadata": {},
   "outputs": [],
   "source": [
    "from sklearn.preprocessing import LabelEncoder"
   ]
  },
  {
   "cell_type": "code",
   "execution_count": 2,
   "id": "d68be7d2-917e-4fc8-b3c4-06c4e56af1c2",
   "metadata": {},
   "outputs": [],
   "source": [
    "list1 = ['IN','USA','GB']\n",
    "\n",
    "lb = LabelEncoder()\n",
    "\n",
    "var = lb.fit_transform(list1)"
   ]
  },
  {
   "cell_type": "code",
   "execution_count": 3,
   "id": "32b61d13-b1f2-45b1-8eed-6dc75e1fd486",
   "metadata": {},
   "outputs": [
    {
     "data": {
      "text/plain": [
       "array([1, 2, 0], dtype=int64)"
      ]
     },
     "execution_count": 3,
     "metadata": {},
     "output_type": "execute_result"
    }
   ],
   "source": [
    "var"
   ]
  },
  {
   "cell_type": "code",
   "execution_count": 4,
   "id": "79e2ebb3-1709-4527-ad27-3f426a966c36",
   "metadata": {},
   "outputs": [
    {
     "data": {
      "text/plain": [
       "array(['GB', 'IN', 'USA'], dtype='<U3')"
      ]
     },
     "execution_count": 4,
     "metadata": {},
     "output_type": "execute_result"
    }
   ],
   "source": [
    "lb.classes_"
   ]
  },
  {
   "cell_type": "code",
   "execution_count": null,
   "id": "3f7fe287-8b45-4091-9746-0ed3c52b7814",
   "metadata": {},
   "outputs": [],
   "source": []
  }
 ],
 "metadata": {
  "kernelspec": {
   "display_name": "Python 3 (ipykernel)",
   "language": "python",
   "name": "python3"
  },
  "language_info": {
   "codemirror_mode": {
    "name": "ipython",
    "version": 3
   },
   "file_extension": ".py",
   "mimetype": "text/x-python",
   "name": "python",
   "nbconvert_exporter": "python",
   "pygments_lexer": "ipython3",
   "version": "3.10.4"
  }
 },
 "nbformat": 4,
 "nbformat_minor": 5
}
